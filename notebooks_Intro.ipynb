{
  "metadata": {
    "kernelspec": {
      "display_name": "Pyolite",
      "language": "python",
      "name": "python"
    },
    "language_info": {
      "codemirror_mode": {
        "name": "python",
        "version": 3
      },
      "file_extension": ".py",
      "mimetype": "text/x-python",
      "name": "python",
      "nbconvert_exporter": "python",
      "pygments_lexer": "ipython3",
      "version": "3.8"
    }
  },
  "nbformat_minor": 5,
  "nbformat": 4,
  "cells": [
    {
      "cell_type": "markdown",
      "source": "## Закон Архимеда \n\nШар радиуса  и плотности  плавает в жидкости плотности \n. Требуется определить, на какую глубину погрузится в жидкость этот шар. Задача сводится к решению кубического уравнения.\n\nВыведите это кубическое уравнение\n\nРешите его численно (см. scipy.optimize.brentq или другой метод)\n\nУравнение имеет три решения. Какие из них надо отбросить?\n\nПостроить график зависимости глубины погружения шара единичного радиуса от значения \n\n### Решение\n\nHere are some other notebooks in this demo. Each of the items below corresponds to a file or folder in the **file browser to the left**.\n\n- [**`Lorenz.ipynb`**](Lorenz.ipynb) uses Python to demonstrate interactive visualizations and computations around the [Lorenz system](https://en.wikipedia.org/wiki/Lorenz_system). It shows off basic Python functionality, including more visualizations, data structures, and scientific computing libraries.\n- [**`sqlite.ipynb`**](sqlite.ipynb) demonstrates how an in-browser sqlite kernel to run your own SQL commands from the notebook. It uses the [jupyterlite/xeus-sqlite-kernel](https://github.com/jupyterlite/xeus-sqlite-kernel).\n\n### Other sources of information in Jupyter\n\n- **More on using JupyterLab**: See [the JupyterLab documentation](https://jupyterlab.readthedocs.io/en/stable/) for more thorough information about how to install and use JupyterLab.\n- **More interactive demos**: See [try.jupyter.org](https://try.jupyter.org) for more interactive demos with the Jupyter ecosystem.\n- **Learn more about Jupyter**: See [the Jupyter community documentation](https://docs.jupyter.org) to learn more about the project, its community and tools, and how to get involved.\n- **Join our discussions**: The [Jupyter Community Forum](https://discourse.jupyter.org) is a place where many in the Jupyter community ask questions, help one another, and discuss issues around interactive computing and our ecosystem.",
      "metadata": {},
      "id": "b9670d85-ef29-4dfd-b4b5-e76d279c1f1a"
    },
    {
      "cell_type": "markdown",
      "source": "Импорт библиотек",
      "metadata": {},
      "id": "11294f15-69ca-403a-b6ff-a67125e38859"
    },
    {
      "cell_type": "code",
      "source": "import numpy as np\nimport matplotlib.pyplot as plt \n%matplotlib inline\nfrom scipy.optimize import brentq \nimport math",
      "metadata": {},
      "execution_count": null,
      "outputs": [],
      "id": "f5bf40c7-c5e4-414f-b67b-416185f4dc99"
    },
    {
      "cell_type": "markdown",
      "source": "Задаем необходимые нам функции",
      "metadata": {},
      "id": "e6baa4c0-84e0-4cf4-809d-ab76892298a1"
    },
    {
      "cell_type": "code",
      "source": "",
      "metadata": {},
      "execution_count": null,
      "outputs": [],
      "id": "71cc32fd-137b-4e6e-83c7-6d9ee4e3ea01"
    },
    {
      "cell_type": "code",
      "source": "",
      "metadata": {},
      "execution_count": null,
      "outputs": [],
      "id": "2aa89521-35cb-4ea2-b8dd-b7853ca8198e"
    }
  ]
}