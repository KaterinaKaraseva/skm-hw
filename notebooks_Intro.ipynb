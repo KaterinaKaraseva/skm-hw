{
  "metadata": {
    "kernelspec": {
      "display_name": "Pyolite",
      "language": "python",
      "name": "python"
    },
    "language_info": {
      "codemirror_mode": {
        "name": "python",
        "version": 3
      },
      "file_extension": ".py",
      "mimetype": "text/x-python",
      "name": "python",
      "nbconvert_exporter": "python",
      "pygments_lexer": "ipython3",
      "version": "3.8"
    }
  },
  "nbformat_minor": 5,
  "nbformat": 4,
  "cells": [
    {
      "cell_type": "markdown",
      "source": "# Закон Архимеда \n\nШар радиуса R и плотности p плавает в жидкости плотности p0. Требуется определить, на какую глубину погрузится в жидкость этот шар. Задача сводится к решению кубического уравнения.\n\n1. Выведите это кубическое уравнение\n\n2. Решите его численно (см. scipy.optimize.brentq или другой метод):\n\n## 1. R = 1, p = 500, p0 = 1000\n\n## 2. R = 1, p = 755, p0 = 997\n\n\nУравнение имеет три решения. Какие из них надо отбросить?\n\nПостроить график зависимости глубины погружения шара единичного радиуса от значения p/p0",
      "metadata": {},
      "id": "b9670d85-ef29-4dfd-b4b5-e76d279c1f1a"
    },
    {
      "cell_type": "markdown",
      "source": "## Решение:\n\n### Формула: $$Fa = p0gV0$$\n\nВыталкивающая сила зависит от трёх факторов:\n\n* плотности жидкости или газа (p);\n\n* ускорения свободного падения (g);\n\n* объёма погружённой части тела (V).",
      "metadata": {},
      "id": "432ae835-0a58-457d-82a0-c75c0d148652"
    },
    {
      "cell_type": "markdown",
      "source": "По второму закону Ньютона для инерциальных систем отсчета:\n\n$$FАрх = mg$$\n\n$$p0gV0 = mg$$\n\n$$p0gV0 = pVg$$\n",
      "metadata": {},
      "id": "c655ded8-4679-4b5d-a957-32f1b50fd033"
    },
    {
      "cell_type": "markdown",
      "source": "Импорт библиотек",
      "metadata": {},
      "id": "11294f15-69ca-403a-b6ff-a67125e38859"
    },
    {
      "cell_type": "code",
      "source": "import numpy as np\nimport matplotlib.pyplot as plt \n%matplotlib inline\nimport math\nfrom scipy.optimize import brentq \nfrom math import pi",
      "metadata": {
        "trusted": true
      },
      "execution_count": 15,
      "outputs": [],
      "id": "f5bf40c7-c5e4-414f-b67b-416185f4dc99"
    },
    {
      "cell_type": "markdown",
      "source": "Первая часть: (а)",
      "metadata": {},
      "id": "e6baa4c0-84e0-4cf4-809d-ab76892298a1"
    },
    {
      "cell_type": "code",
      "source": "R = 1\np = 500\np0 = 1000",
      "metadata": {
        "trusted": true
      },
      "execution_count": 16,
      "outputs": [],
      "id": "d6c4940d-d8ad-45da-b926-b73bffd029dd"
    },
    {
      "cell_type": "code",
      "source": "",
      "metadata": {},
      "execution_count": null,
      "outputs": [],
      "id": "3f6f78d6-a28f-4534-a715-7e42235832fa"
    }
  ]
}