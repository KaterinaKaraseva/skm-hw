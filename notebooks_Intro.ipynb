{
  "metadata": {
    "kernelspec": {
      "display_name": "Pyolite",
      "language": "python",
      "name": "python"
    },
    "language_info": {
      "codemirror_mode": {
        "name": "python",
        "version": 3
      },
      "file_extension": ".py",
      "mimetype": "text/x-python",
      "name": "python",
      "nbconvert_exporter": "python",
      "pygments_lexer": "ipython3",
      "version": "3.8"
    }
  },
  "nbformat_minor": 5,
  "nbformat": 4,
  "cells": [
    {
      "cell_type": "markdown",
      "source": "# Закон Архимеда \n\nШар радиуса R и плотности p плавает в жидкости плотности p0. Требуется определить, на какую глубину погрузится в жидкость этот шар. Задача сводится к решению кубического уравнения.\n\n1. Выведите это кубическое уравнение\n\n2. Решите его численно (см. scipy.optimize.brentq или другой метод):\n\n## 1. R1 = 1, p1 = 500, p01 = 1000\n\n## 2. R1 = 1, p1 = 755, p01 = 997\n\n\nУравнение имеет три решения. Какие из них надо отбросить?\n\nПостроить график зависимости глубины погружения шара единичного радиуса от значения p/p0",
      "metadata": {},
      "id": "b9670d85-ef29-4dfd-b4b5-e76d279c1f1a"
    },
    {
      "cell_type": "markdown",
      "source": "## Решение\n\n### Формула: $$V=1/3*Pi*h2*(3r-h)$$\n\nВходящие данные: r(радиус) и p(плотность)\n\nИсходящие данные: h(глубина погружения)",
      "metadata": {},
      "id": "432ae835-0a58-457d-82a0-c75c0d148652"
    },
    {
      "cell_type": "markdown",
      "source": "Импорт библиотек",
      "metadata": {},
      "id": "11294f15-69ca-403a-b6ff-a67125e38859"
    },
    {
      "cell_type": "code",
      "source": "import numpy as np\nimport matplotlib.pyplot as plt \n%matplotlib inline\nimport math\nfrom scipy.optimize import brentq ",
      "metadata": {
        "trusted": true
      },
      "execution_count": 13,
      "outputs": [],
      "id": "f5bf40c7-c5e4-414f-b67b-416185f4dc99"
    },
    {
      "cell_type": "markdown",
      "source": "Задаем необходимые нам функции",
      "metadata": {},
      "id": "e6baa4c0-84e0-4cf4-809d-ab76892298a1"
    },
    {
      "cell_type": "code",
      "source": "",
      "metadata": {},
      "execution_count": null,
      "outputs": [],
      "id": "d6c4940d-d8ad-45da-b926-b73bffd029dd"
    }
  ]
}