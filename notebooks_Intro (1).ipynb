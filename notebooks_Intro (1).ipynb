{
  "metadata": {
    "kernelspec": {
      "display_name": "Pyolite",
      "language": "python",
      "name": "python"
    },
    "language_info": {
      "codemirror_mode": {
        "name": "python",
        "version": 3
      },
      "file_extension": ".py",
      "mimetype": "text/x-python",
      "name": "python",
      "nbconvert_exporter": "python",
      "pygments_lexer": "ipython3",
      "version": "3.8"
    }
  },
  "nbformat_minor": 5,
  "nbformat": 4,
  "cells": [
    {
      "cell_type": "markdown",
      "source": "## Закон Архимеда \n\nШар радиуса  и плотности  плавает в жидкости плотности \n. Требуется определить, на какую глубину погрузится в жидкость этот шар. Задача сводится к решению кубического уравнения.\n\nВыведите это кубическое уравнение\n\nРешите его численно (см. scipy.optimize.brentq или другой метод)\n\nУравнение имеет три решения. Какие из них надо отбросить?\n\nПостроить график зависимости глубины погружения шара единичного радиуса от значения \n\n### Решение\n\n",
      "metadata": {},
      "id": "b9670d85-ef29-4dfd-b4b5-e76d279c1f1a"
    },
    {
      "cell_type": "markdown",
      "source": "Импорт библиотек",
      "metadata": {},
      "id": "11294f15-69ca-403a-b6ff-a67125e38859"
    },
    {
      "cell_type": "code",
      "source": "import numpy as np\nimport matplotlib.pyplot as plt \n%matplotlib inline\nimport math\nfrom scipy.optimize import brentq ",
      "metadata": {
        "trusted": true
      },
      "execution_count": 9,
      "outputs": [],
      "id": "f5bf40c7-c5e4-414f-b67b-416185f4dc99"
    },
    {
      "cell_type": "markdown",
      "source": "Задаем необходимые нам функции",
      "metadata": {},
      "id": "e6baa4c0-84e0-4cf4-809d-ab76892298a1"
    }
  ]
}